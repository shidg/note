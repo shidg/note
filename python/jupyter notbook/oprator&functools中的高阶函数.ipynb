{
 "cells": [
  {
   "cell_type": "code",
   "execution_count": 2,
   "metadata": {},
   "outputs": [],
   "source": [
    "from operator import itemgetter"
   ]
  },
  {
   "cell_type": "code",
   "execution_count": 9,
   "metadata": {},
   "outputs": [],
   "source": [
    "from operator import mul"
   ]
  },
  {
   "cell_type": "code",
   "execution_count": 3,
   "metadata": {},
   "outputs": [],
   "source": [
    "from functools import reduce"
   ]
  },
  {
   "cell_type": "code",
   "execution_count": 6,
   "metadata": {},
   "outputs": [],
   "source": [
    "# 阶乘\n",
    "def fact(n):\n",
    "    return reduce(lambda x,y : x * y,range(1,(n + 1)))"
   ]
  },
  {
   "cell_type": "code",
   "execution_count": 7,
   "metadata": {},
   "outputs": [
    {
     "data": {
      "text/plain": [
       "120"
      ]
     },
     "execution_count": 7,
     "metadata": {},
     "output_type": "execute_result"
    }
   ],
   "source": [
    "fact(5)"
   ]
  },
  {
   "cell_type": "code",
   "execution_count": 12,
   "metadata": {},
   "outputs": [],
   "source": [
    "# 使用 mul函数代替lambda\n",
    "def fact(n):\n",
    "    return reduce(mul,range(1,(n+1)))"
   ]
  },
  {
   "cell_type": "code",
   "execution_count": 13,
   "metadata": {},
   "outputs": [
    {
     "data": {
      "text/plain": [
       "120"
      ]
     },
     "execution_count": 13,
     "metadata": {},
     "output_type": "execute_result"
    }
   ],
   "source": [
    "fact(5)"
   ]
  },
  {
   "cell_type": "code",
   "execution_count": 16,
   "metadata": {},
   "outputs": [],
   "source": [
    "# 排序\n",
    "metro_data = [('Tokyo','JP',36.933,(35.689722,139.691667)),\n",
    "              ('Delhi NCR','IN',21.935,(28.613889,77.208889)),\n",
    "              ('Mexico City','MX',20.142,(19.433333,-99.133333)),\n",
    "              ('New York-Newark','US',20.104,(40.808611,-74.020386)),\n",
    "              ('Sao Paulo','BR',19.649,(-23.547778,-46.635833))\n",
    "             ] "
   ]
  },
  {
   "cell_type": "code",
   "execution_count": 17,
   "metadata": {},
   "outputs": [],
   "source": [
    "sorted_metro_data = sorted(metro_data,key=lambda x:x[1]) "
   ]
  },
  {
   "cell_type": "code",
   "execution_count": 18,
   "metadata": {},
   "outputs": [
    {
     "data": {
      "text/plain": [
       "[('Sao Paulo', 'BR', 19.649, (-23.547778, -46.635833)),\n",
       " ('Delhi NCR', 'IN', 21.935, (28.613889, 77.208889)),\n",
       " ('Tokyo', 'JP', 36.933, (35.689722, 139.691667)),\n",
       " ('Mexico City', 'MX', 20.142, (19.433333, -99.133333)),\n",
       " ('New York-Newark', 'US', 20.104, (40.808611, -74.020386))]"
      ]
     },
     "execution_count": 18,
     "metadata": {},
     "output_type": "execute_result"
    }
   ],
   "source": [
    "sorted_metro_data"
   ]
  },
  {
   "cell_type": "code",
   "execution_count": 20,
   "metadata": {},
   "outputs": [
    {
     "data": {
      "text/plain": [
       "[('Tokyo', 'JP', 36.933, (35.689722, 139.691667)),\n",
       " ('Delhi NCR', 'IN', 21.935, (28.613889, 77.208889)),\n",
       " ('Mexico City', 'MX', 20.142, (19.433333, -99.133333)),\n",
       " ('New York-Newark', 'US', 20.104, (40.808611, -74.020386)),\n",
       " ('Sao Paulo', 'BR', 19.649, (-23.547778, -46.635833))]"
      ]
     },
     "execution_count": 20,
     "metadata": {},
     "output_type": "execute_result"
    }
   ],
   "source": [
    "# sorted()返回一个新对象，原数据未修改\n",
    "metro_data"
   ]
  },
  {
   "cell_type": "code",
   "execution_count": 21,
   "metadata": {},
   "outputs": [],
   "source": [
    "# 使用itemgetter代替lambda\n",
    "sorted_metro_data = sorted(metro_data,key=itemgetter(1))"
   ]
  },
  {
   "cell_type": "code",
   "execution_count": 22,
   "metadata": {},
   "outputs": [
    {
     "data": {
      "text/plain": [
       "[('Sao Paulo', 'BR', 19.649, (-23.547778, -46.635833)),\n",
       " ('Delhi NCR', 'IN', 21.935, (28.613889, 77.208889)),\n",
       " ('Tokyo', 'JP', 36.933, (35.689722, 139.691667)),\n",
       " ('Mexico City', 'MX', 20.142, (19.433333, -99.133333)),\n",
       " ('New York-Newark', 'US', 20.104, (40.808611, -74.020386))]"
      ]
     },
     "execution_count": 22,
     "metadata": {},
     "output_type": "execute_result"
    }
   ],
   "source": [
    "sorted_metro_data"
   ]
  },
  {
   "cell_type": "code",
   "execution_count": 27,
   "metadata": {},
   "outputs": [
    {
     "name": "stdout",
     "output_type": "stream",
     "text": [
      "('Sao Paulo', 'BR', 19.649, (-23.547778, -46.635833))\n",
      "('New York-Newark', 'US', 20.104, (40.808611, -74.020386))\n",
      "('Mexico City', 'MX', 20.142, (19.433333, -99.133333))\n",
      "('Delhi NCR', 'IN', 21.935, (28.613889, 77.208889))\n",
      "('Tokyo', 'JP', 36.933, (35.689722, 139.691667))\n"
     ]
    }
   ],
   "source": [
    "for city in sorted(metro_data,key=itemgetter(2)):\n",
    "    print(city)"
   ]
  },
  {
   "cell_type": "code",
   "execution_count": 28,
   "metadata": {},
   "outputs": [],
   "source": [
    "cc_name = itemgetter(1,0)"
   ]
  },
  {
   "cell_type": "code",
   "execution_count": 37,
   "metadata": {},
   "outputs": [
    {
     "name": "stdout",
     "output_type": "stream",
     "text": [
      "('JP', 'Tokyo')\n",
      "('IN', 'Delhi NCR')\n",
      "('MX', 'Mexico City')\n",
      "('US', 'New York-Newark')\n",
      "('BR', 'Sao Paulo')\n"
     ]
    }
   ],
   "source": [
    "for city in metro_data:\n",
    "    print(cc_name(city))"
   ]
  },
  {
   "cell_type": "code",
   "execution_count": 39,
   "metadata": {},
   "outputs": [],
   "source": [
    "# attrgetter\n",
    "from collections import namedtuple"
   ]
  },
  {
   "cell_type": "code",
   "execution_count": 40,
   "metadata": {},
   "outputs": [],
   "source": [
    "LatLong = namedtuple('LatLong','lat long')"
   ]
  },
  {
   "cell_type": "code",
   "execution_count": 41,
   "metadata": {},
   "outputs": [],
   "source": [
    "Metropolis = namedtuple('Metropolis','name cc pop coord')"
   ]
  },
  {
   "cell_type": "code",
   "execution_count": 46,
   "metadata": {},
   "outputs": [],
   "source": [
    "metro_areas = [Metropolis(name, cc, pop, LatLong(lat, long)) for name,cc,pop,(lat,long) in metro_data]"
   ]
  },
  {
   "cell_type": "code",
   "execution_count": 47,
   "metadata": {},
   "outputs": [
    {
     "data": {
      "text/plain": [
       "Metropolis(name='Tokyo', cc='JP', pop=36.933, coord=LatLong(lat=35.689722, long=139.691667))"
      ]
     },
     "execution_count": 47,
     "metadata": {},
     "output_type": "execute_result"
    }
   ],
   "source": [
    "metro_areas[0]"
   ]
  },
  {
   "cell_type": "code",
   "execution_count": 49,
   "metadata": {},
   "outputs": [
    {
     "data": {
      "text/plain": [
       "35.689722"
      ]
     },
     "execution_count": 49,
     "metadata": {},
     "output_type": "execute_result"
    }
   ],
   "source": [
    "metro_areas[0].coord.lat"
   ]
  },
  {
   "cell_type": "code",
   "execution_count": 50,
   "metadata": {},
   "outputs": [],
   "source": [
    "from operator import attrgetter"
   ]
  },
  {
   "cell_type": "code",
   "execution_count": 51,
   "metadata": {},
   "outputs": [],
   "source": [
    "name_lat = attrgetter('name','coord.lat')"
   ]
  },
  {
   "cell_type": "code",
   "execution_count": 54,
   "metadata": {},
   "outputs": [
    {
     "name": "stdout",
     "output_type": "stream",
     "text": [
      "('Sao Paulo', -23.547778)\n",
      "('Mexico City', 19.433333)\n",
      "('Delhi NCR', 28.613889)\n",
      "('Tokyo', 35.689722)\n",
      "('New York-Newark', 40.808611)\n"
     ]
    }
   ],
   "source": [
    "# attrgetter 使用字符串获取对应属性的值，（反射 getattr）\n",
    "for city in sorted(metro_areas,key=attrgetter('coord.lat')):\n",
    "    print(name_lat(city))"
   ]
  },
  {
   "cell_type": "code",
   "execution_count": 55,
   "metadata": {},
   "outputs": [],
   "source": [
    "# methodcaller \n",
    "from operator import methodcaller"
   ]
  },
  {
   "cell_type": "code",
   "execution_count": 56,
   "metadata": {},
   "outputs": [],
   "source": [
    "upcase = methodcaller('upper')"
   ]
  },
  {
   "cell_type": "code",
   "execution_count": 57,
   "metadata": {},
   "outputs": [],
   "source": [
    "s = 'hello world'"
   ]
  },
  {
   "cell_type": "code",
   "execution_count": 58,
   "metadata": {},
   "outputs": [
    {
     "data": {
      "text/plain": [
       "'HELLO WORLD'"
      ]
     },
     "execution_count": 58,
     "metadata": {},
     "output_type": "execute_result"
    }
   ],
   "source": [
    "upcase(s)"
   ]
  },
  {
   "cell_type": "code",
   "execution_count": 59,
   "metadata": {},
   "outputs": [],
   "source": [
    "hiphenate = methodcaller('replace',' ','-')"
   ]
  },
  {
   "cell_type": "code",
   "execution_count": 60,
   "metadata": {},
   "outputs": [
    {
     "data": {
      "text/plain": [
       "'how-old-are-you?'"
      ]
     },
     "execution_count": 60,
     "metadata": {},
     "output_type": "execute_result"
    }
   ],
   "source": [
    "hiphenate('how old are you?')"
   ]
  },
  {
   "cell_type": "code",
   "execution_count": 62,
   "metadata": {},
   "outputs": [],
   "source": [
    "# partial，冻结部分参数\n",
    "from functools import partial"
   ]
  },
  {
   "cell_type": "code",
   "execution_count": 65,
   "metadata": {},
   "outputs": [],
   "source": [
    "# 使用partial构建一个新的函数triple,triple函数接收到的参数会跟3相乘，相当于冻结了其中一个因数\n",
    "triple = partial(mul,3)"
   ]
  },
  {
   "cell_type": "code",
   "execution_count": 64,
   "metadata": {},
   "outputs": [
    {
     "data": {
      "text/plain": [
       "21"
      ]
     },
     "execution_count": 64,
     "metadata": {},
     "output_type": "execute_result"
    }
   ],
   "source": [
    "# 传入的参数跟3相乘\n",
    "triple(7)"
   ]
  },
  {
   "cell_type": "code",
   "execution_count": null,
   "metadata": {},
   "outputs": [],
   "source": []
  }
 ],
 "metadata": {
  "kernelspec": {
   "display_name": "Python 3",
   "language": "python",
   "name": "python3"
  },
  "language_info": {
   "codemirror_mode": {
    "name": "ipython",
    "version": 3
   },
   "file_extension": ".py",
   "mimetype": "text/x-python",
   "name": "python",
   "nbconvert_exporter": "python",
   "pygments_lexer": "ipython3",
   "version": "3.7.4"
  }
 },
 "nbformat": 4,
 "nbformat_minor": 2
}
